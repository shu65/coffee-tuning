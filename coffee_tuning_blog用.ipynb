{
  "nbformat": 4,
  "nbformat_minor": 0,
  "metadata": {
    "colab": {
      "name": "coffee tuning blog用 ",
      "provenance": [],
      "collapsed_sections": [],
      "authorship_tag": "ABX9TyNQnG0NAHDnEBTsX3/NBgFH",
      "include_colab_link": true
    },
    "kernelspec": {
      "name": "python3",
      "display_name": "Python 3"
    }
  },
  "cells": [
    {
      "cell_type": "markdown",
      "metadata": {
        "id": "view-in-github",
        "colab_type": "text"
      },
      "source": [
        "<a href=\"https://colab.research.google.com/github/shu65/coffee-tuning/blob/main/coffee_tuning_blog%E7%94%A8.ipynb\" target=\"_parent\"><img src=\"https://colab.research.google.com/assets/colab-badge.svg\" alt=\"Open In Colab\"/></a>"
      ]
    },
    {
      "cell_type": "code",
      "metadata": {
        "colab": {
          "base_uri": "https://localhost:8080/"
        },
        "id": "chLHSr1E6bzv",
        "outputId": "04cbd3f0-a429-4711-f42a-bfc73176650b"
      },
      "source": [
        "!pip install optuna gspread pandas"
      ],
      "execution_count": 1,
      "outputs": [
        {
          "output_type": "stream",
          "text": [
            "Collecting optuna\n",
            "\u001b[?25l  Downloading https://files.pythonhosted.org/packages/59/b4/a1a80252cef3d8f5a0acdf6e678d6dc07e2e6964ee46d0453a2ae1af1ecb/optuna-2.4.0-py3-none-any.whl (282kB)\n",
            "\r\u001b[K     |█▏                              | 10kB 18.1MB/s eta 0:00:01\r\u001b[K     |██▎                             | 20kB 11.0MB/s eta 0:00:01\r\u001b[K     |███▌                            | 30kB 7.9MB/s eta 0:00:01\r\u001b[K     |████▋                           | 40kB 7.3MB/s eta 0:00:01\r\u001b[K     |█████▉                          | 51kB 4.4MB/s eta 0:00:01\r\u001b[K     |███████                         | 61kB 4.8MB/s eta 0:00:01\r\u001b[K     |████████▏                       | 71kB 5.0MB/s eta 0:00:01\r\u001b[K     |█████████▎                      | 81kB 5.3MB/s eta 0:00:01\r\u001b[K     |██████████▍                     | 92kB 5.1MB/s eta 0:00:01\r\u001b[K     |███████████▋                    | 102kB 5.6MB/s eta 0:00:01\r\u001b[K     |████████████▊                   | 112kB 5.6MB/s eta 0:00:01\r\u001b[K     |██████████████                  | 122kB 5.6MB/s eta 0:00:01\r\u001b[K     |███████████████                 | 133kB 5.6MB/s eta 0:00:01\r\u001b[K     |████████████████▎               | 143kB 5.6MB/s eta 0:00:01\r\u001b[K     |█████████████████▍              | 153kB 5.6MB/s eta 0:00:01\r\u001b[K     |██████████████████▌             | 163kB 5.6MB/s eta 0:00:01\r\u001b[K     |███████████████████▊            | 174kB 5.6MB/s eta 0:00:01\r\u001b[K     |████████████████████▉           | 184kB 5.6MB/s eta 0:00:01\r\u001b[K     |██████████████████████          | 194kB 5.6MB/s eta 0:00:01\r\u001b[K     |███████████████████████▏        | 204kB 5.6MB/s eta 0:00:01\r\u001b[K     |████████████████████████▍       | 215kB 5.6MB/s eta 0:00:01\r\u001b[K     |█████████████████████████▌      | 225kB 5.6MB/s eta 0:00:01\r\u001b[K     |██████████████████████████▋     | 235kB 5.6MB/s eta 0:00:01\r\u001b[K     |███████████████████████████▉    | 245kB 5.6MB/s eta 0:00:01\r\u001b[K     |█████████████████████████████   | 256kB 5.6MB/s eta 0:00:01\r\u001b[K     |██████████████████████████████▏ | 266kB 5.6MB/s eta 0:00:01\r\u001b[K     |███████████████████████████████▎| 276kB 5.6MB/s eta 0:00:01\r\u001b[K     |████████████████████████████████| 286kB 5.6MB/s \n",
            "\u001b[?25hRequirement already satisfied: gspread in /usr/local/lib/python3.6/dist-packages (3.0.1)\n",
            "Requirement already satisfied: pandas in /usr/local/lib/python3.6/dist-packages (1.1.5)\n",
            "Requirement already satisfied: tqdm in /usr/local/lib/python3.6/dist-packages (from optuna) (4.41.1)\n",
            "Collecting colorlog\n",
            "  Downloading https://files.pythonhosted.org/packages/5e/39/0230290df0519d528d8d0ffdfd900150ed24e0076d13b1f19e279444aab1/colorlog-4.7.2-py2.py3-none-any.whl\n",
            "Requirement already satisfied: joblib in /usr/local/lib/python3.6/dist-packages (from optuna) (1.0.0)\n",
            "Requirement already satisfied: numpy in /usr/local/lib/python3.6/dist-packages (from optuna) (1.19.5)\n",
            "Collecting alembic\n",
            "\u001b[?25l  Downloading https://files.pythonhosted.org/packages/cd/d2/1c6e91299280ef1a6dadbbd5e762a8b091d02e2340a9ff001b58ca80f536/alembic-1.5.3.tar.gz (1.1MB)\n",
            "\u001b[K     |████████████████████████████████| 1.1MB 36.5MB/s \n",
            "\u001b[?25hRequirement already satisfied: scipy!=1.4.0 in /usr/local/lib/python3.6/dist-packages (from optuna) (1.4.1)\n",
            "Requirement already satisfied: sqlalchemy>=1.1.0 in /usr/local/lib/python3.6/dist-packages (from optuna) (1.3.22)\n",
            "Requirement already satisfied: packaging>=20.0 in /usr/local/lib/python3.6/dist-packages (from optuna) (20.8)\n",
            "Collecting cliff\n",
            "\u001b[?25l  Downloading https://files.pythonhosted.org/packages/0f/8f/3c74fa4b6c3db1051b495385f5302fc5d5aa0f180d40ce3e9a13c82f8c82/cliff-3.6.0-py3-none-any.whl (79kB)\n",
            "\u001b[K     |████████████████████████████████| 81kB 9.4MB/s \n",
            "\u001b[?25hCollecting cmaes>=0.6.0\n",
            "  Downloading https://files.pythonhosted.org/packages/8d/3c/06c76ec8b54b9b1fad7f35e903fd25010fe3e0d41bd94cea5e6f12e0d651/cmaes-0.7.0-py3-none-any.whl\n",
            "Requirement already satisfied: requests>=2.2.1 in /usr/local/lib/python3.6/dist-packages (from gspread) (2.23.0)\n",
            "Requirement already satisfied: python-dateutil>=2.7.3 in /usr/local/lib/python3.6/dist-packages (from pandas) (2.8.1)\n",
            "Requirement already satisfied: pytz>=2017.2 in /usr/local/lib/python3.6/dist-packages (from pandas) (2018.9)\n",
            "Collecting Mako\n",
            "\u001b[?25l  Downloading https://files.pythonhosted.org/packages/5c/db/2d2d88b924aa4674a080aae83b59ea19d593250bfe5ed789947c21736785/Mako-1.1.4.tar.gz (479kB)\n",
            "\u001b[K     |████████████████████████████████| 481kB 40.6MB/s \n",
            "\u001b[?25hCollecting python-editor>=0.3\n",
            "  Downloading https://files.pythonhosted.org/packages/c6/d3/201fc3abe391bbae6606e6f1d598c15d367033332bd54352b12f35513717/python_editor-1.0.4-py3-none-any.whl\n",
            "Requirement already satisfied: pyparsing>=2.0.2 in /usr/local/lib/python3.6/dist-packages (from packaging>=20.0->optuna) (2.4.7)\n",
            "Collecting PrettyTable<0.8,>=0.7.2\n",
            "  Downloading https://files.pythonhosted.org/packages/ef/30/4b0746848746ed5941f052479e7c23d2b56d174b82f4fd34a25e389831f5/prettytable-0.7.2.tar.bz2\n",
            "Collecting stevedore>=2.0.1\n",
            "\u001b[?25l  Downloading https://files.pythonhosted.org/packages/d4/49/b602307aeac3df3384ff1fcd05da9c0376c622a6c48bb5325f28ab165b57/stevedore-3.3.0-py3-none-any.whl (49kB)\n",
            "\u001b[K     |████████████████████████████████| 51kB 6.6MB/s \n",
            "\u001b[?25hCollecting cmd2!=0.8.3,>=0.8.0\n",
            "\u001b[?25l  Downloading https://files.pythonhosted.org/packages/27/54/af6e2703f064485d717cb311d3f9440cd302a823ba6d80a020b59eae166d/cmd2-1.4.0-py3-none-any.whl (133kB)\n",
            "\u001b[K     |████████████████████████████████| 133kB 36.7MB/s \n",
            "\u001b[?25hRequirement already satisfied: PyYAML>=3.12 in /usr/local/lib/python3.6/dist-packages (from cliff->optuna) (3.13)\n",
            "Collecting pbr!=2.1.0,>=2.0.0\n",
            "\u001b[?25l  Downloading https://files.pythonhosted.org/packages/fb/48/69046506f6ac61c1eaa9a0d42d22d54673b69e176d30ca98e3f61513e980/pbr-5.5.1-py2.py3-none-any.whl (106kB)\n",
            "\u001b[K     |████████████████████████████████| 112kB 48.0MB/s \n",
            "\u001b[?25hRequirement already satisfied: chardet<4,>=3.0.2 in /usr/local/lib/python3.6/dist-packages (from requests>=2.2.1->gspread) (3.0.4)\n",
            "Requirement already satisfied: certifi>=2017.4.17 in /usr/local/lib/python3.6/dist-packages (from requests>=2.2.1->gspread) (2020.12.5)\n",
            "Requirement already satisfied: idna<3,>=2.5 in /usr/local/lib/python3.6/dist-packages (from requests>=2.2.1->gspread) (2.10)\n",
            "Requirement already satisfied: urllib3!=1.25.0,!=1.25.1,<1.26,>=1.21.1 in /usr/local/lib/python3.6/dist-packages (from requests>=2.2.1->gspread) (1.24.3)\n",
            "Requirement already satisfied: six>=1.5 in /usr/local/lib/python3.6/dist-packages (from python-dateutil>=2.7.3->pandas) (1.15.0)\n",
            "Requirement already satisfied: MarkupSafe>=0.9.2 in /usr/local/lib/python3.6/dist-packages (from Mako->alembic->optuna) (1.1.1)\n",
            "Requirement already satisfied: importlib-metadata>=1.7.0; python_version < \"3.8\" in /usr/local/lib/python3.6/dist-packages (from stevedore>=2.0.1->cliff->optuna) (3.4.0)\n",
            "Requirement already satisfied: attrs>=16.3.0 in /usr/local/lib/python3.6/dist-packages (from cmd2!=0.8.3,>=0.8.0->cliff->optuna) (20.3.0)\n",
            "Requirement already satisfied: wcwidth>=0.1.7 in /usr/local/lib/python3.6/dist-packages (from cmd2!=0.8.3,>=0.8.0->cliff->optuna) (0.2.5)\n",
            "Collecting pyperclip>=1.6\n",
            "  Downloading https://files.pythonhosted.org/packages/6f/4c/0b1d507ad7e8bc31d690d04b4f475e74c2002d060f7994ce8c09612df707/pyperclip-1.8.1.tar.gz\n",
            "Collecting colorama>=0.3.7\n",
            "  Downloading https://files.pythonhosted.org/packages/44/98/5b86278fbbf250d239ae0ecb724f8572af1c91f4a11edf4d36a206189440/colorama-0.4.4-py2.py3-none-any.whl\n",
            "Requirement already satisfied: zipp>=0.5 in /usr/local/lib/python3.6/dist-packages (from importlib-metadata>=1.7.0; python_version < \"3.8\"->stevedore>=2.0.1->cliff->optuna) (3.4.0)\n",
            "Requirement already satisfied: typing-extensions>=3.6.4; python_version < \"3.8\" in /usr/local/lib/python3.6/dist-packages (from importlib-metadata>=1.7.0; python_version < \"3.8\"->stevedore>=2.0.1->cliff->optuna) (3.7.4.3)\n",
            "Building wheels for collected packages: alembic, Mako, PrettyTable, pyperclip\n",
            "  Building wheel for alembic (setup.py) ... \u001b[?25l\u001b[?25hdone\n",
            "  Created wheel for alembic: filename=alembic-1.5.3-py2.py3-none-any.whl size=155547 sha256=53d56f46f2644f778edfbb4bd0dc8e9875f0ec971423efb904b95c8aa3f22cf3\n",
            "  Stored in directory: /root/.cache/pip/wheels/7f/ed/1b/a66a0cbca75fd3e374bd5cc60c443e5675f10ef1f1f78ec31d\n",
            "  Building wheel for Mako (setup.py) ... \u001b[?25l\u001b[?25hdone\n",
            "  Created wheel for Mako: filename=Mako-1.1.4-py2.py3-none-any.whl size=75675 sha256=dd6eb3f8f0e2dc10068d6a79ecccea98d295c300381fd322c890e44eab932488\n",
            "  Stored in directory: /root/.cache/pip/wheels/ad/10/d3/aeb26e20d19045e2a68e5d3cbb57432e11b5d9c92c99f98d47\n",
            "  Building wheel for PrettyTable (setup.py) ... \u001b[?25l\u001b[?25hdone\n",
            "  Created wheel for PrettyTable: filename=prettytable-0.7.2-cp36-none-any.whl size=13702 sha256=7650f575f1ec8d27466126ac904db49f799f214afbca5c44d2ef1226eb439117\n",
            "  Stored in directory: /root/.cache/pip/wheels/80/34/1c/3967380d9676d162cb59513bd9dc862d0584e045a162095606\n",
            "  Building wheel for pyperclip (setup.py) ... \u001b[?25l\u001b[?25hdone\n",
            "  Created wheel for pyperclip: filename=pyperclip-1.8.1-cp36-none-any.whl size=11120 sha256=ee56676cc30cd96c2032a7cf63a90e2c2c494914b8b531e3cfba670f89de836f\n",
            "  Stored in directory: /root/.cache/pip/wheels/44/10/3a/c830e9bb3db2c93274ea1f213a41fabde0d8cf3794251fad0c\n",
            "Successfully built alembic Mako PrettyTable pyperclip\n",
            "Installing collected packages: colorlog, Mako, python-editor, alembic, PrettyTable, pbr, stevedore, pyperclip, colorama, cmd2, cliff, cmaes, optuna\n",
            "  Found existing installation: prettytable 2.0.0\n",
            "    Uninstalling prettytable-2.0.0:\n",
            "      Successfully uninstalled prettytable-2.0.0\n",
            "Successfully installed Mako-1.1.4 PrettyTable-0.7.2 alembic-1.5.3 cliff-3.6.0 cmaes-0.7.0 cmd2-1.4.0 colorama-0.4.4 colorlog-4.7.2 optuna-2.4.0 pbr-5.5.1 pyperclip-1.8.1 python-editor-1.0.4 stevedore-3.3.0\n"
          ],
          "name": "stdout"
        }
      ]
    },
    {
      "cell_type": "code",
      "metadata": {
        "id": "jIqfG-CN7knl"
      },
      "source": [
        "# Google スプレッドシートの承認\r\n",
        "\r\n",
        "from google.colab import auth\r\n",
        "from oauth2client.client import GoogleCredentials\r\n",
        "import gspread\r\n",
        "\r\n",
        "auth.authenticate_user()\r\n",
        "gc = gspread.authorize(GoogleCredentials.get_application_default())"
      ],
      "execution_count": 2,
      "outputs": []
    },
    {
      "cell_type": "code",
      "metadata": {
        "colab": {
          "base_uri": "https://localhost:8080/",
          "height": 142
        },
        "id": "PDd051uL76Iu",
        "outputId": "9d020911-a8c2-4e09-97b8-8bdfccf8cd16"
      },
      "source": [
        "# スプレッドシートからデータを取ってくる\r\n",
        "import pandas as pd\r\n",
        "\r\n",
        "ss_name = \"shu65コーヒーデータ\"\r\n",
        "workbook = gc.open(ss_name)\r\n",
        "worksheet = workbook.get_worksheet(1)\r\n",
        "df = pd.DataFrame(worksheet.get_all_records())\r\n",
        "df = df.set_index('淹れた日')\r\n",
        "df"
      ],
      "execution_count": 3,
      "outputs": [
        {
          "output_type": "execute_result",
          "data": {
            "text/html": [
              "<div>\n",
              "<style scoped>\n",
              "    .dataframe tbody tr th:only-of-type {\n",
              "        vertical-align: middle;\n",
              "    }\n",
              "\n",
              "    .dataframe tbody tr th {\n",
              "        vertical-align: top;\n",
              "    }\n",
              "\n",
              "    .dataframe thead th {\n",
              "        text-align: right;\n",
              "    }\n",
              "</style>\n",
              "<table border=\"1\" class=\"dataframe\">\n",
              "  <thead>\n",
              "    <tr style=\"text-align: right;\">\n",
              "      <th></th>\n",
              "      <th>豆</th>\n",
              "      <th>豆を買った店</th>\n",
              "      <th>豆を買った日</th>\n",
              "      <th>豆の量(g)</th>\n",
              "      <th>ミルの時間 (sec)</th>\n",
              "      <th>トータルの時間 (sec)</th>\n",
              "      <th>蒸らし時間 (sec)</th>\n",
              "      <th>スコア</th>\n",
              "      <th>コメント</th>\n",
              "    </tr>\n",
              "    <tr>\n",
              "      <th>淹れた日</th>\n",
              "      <th></th>\n",
              "      <th></th>\n",
              "      <th></th>\n",
              "      <th></th>\n",
              "      <th></th>\n",
              "      <th></th>\n",
              "      <th></th>\n",
              "      <th></th>\n",
              "      <th></th>\n",
              "    </tr>\n",
              "  </thead>\n",
              "  <tbody>\n",
              "    <tr>\n",
              "      <th>2020/12/29</th>\n",
              "      <td>マンデリン</td>\n",
              "      <td>店0</td>\n",
              "      <td>2020/12/28</td>\n",
              "      <td>9</td>\n",
              "      <td>5</td>\n",
              "      <td>240</td>\n",
              "      <td>30</td>\n",
              "      <td>5</td>\n",
              "      <td>マンデリンのいい感じの苦みが強調されていて久々に入れたにしてはよくできた印象</td>\n",
              "    </tr>\n",
              "    <tr>\n",
              "      <th>2020/12/30</th>\n",
              "      <td>マンデリン</td>\n",
              "      <td>店0</td>\n",
              "      <td>2020/12/28</td>\n",
              "      <td>9</td>\n",
              "      <td>5</td>\n",
              "      <td>180</td>\n",
              "      <td>30</td>\n",
              "      <td>4</td>\n",
              "      <td>マンデリンのいい感じの苦みが強調されていて久々に入れたにしてはよくできた印象</td>\n",
              "    </tr>\n",
              "  </tbody>\n",
              "</table>\n",
              "</div>"
            ],
            "text/plain": [
              "                豆 豆を買った店  ... スコア                                    コメント\n",
              "淹れた日                      ...                                            \n",
              "2020/12/29  マンデリン     店0  ...   5  マンデリンのいい感じの苦みが強調されていて久々に入れたにしてはよくできた印象\n",
              "2020/12/30  マンデリン     店0  ...   4  マンデリンのいい感じの苦みが強調されていて久々に入れたにしてはよくできた印象\n",
              "\n",
              "[2 rows x 9 columns]"
            ]
          },
          "metadata": {
            "tags": []
          },
          "execution_count": 3
        }
      ]
    },
    {
      "cell_type": "code",
      "metadata": {
        "id": "7RHfY57T_Qui"
      },
      "source": [
        "\r\n",
        "# 探索空間の定義\r\n",
        "\r\n",
        "import optuna\r\n",
        "\r\n",
        "search_space={\r\n",
        "    \"豆の量(g)\": optuna.distributions.IntUniformDistribution(8, 12),\r\n",
        "    \"ミルの時間 (sec)\": optuna.distributions.IntUniformDistribution(3, 15),\r\n",
        "    \"トータルの時間 (sec)\": optuna.distributions.IntUniformDistribution(180, 300),\r\n",
        "    \"蒸らし時間 (sec)\": optuna.distributions.IntUniformDistribution(20, 40),\r\n",
        "    }\r\n",
        "score_column = 'スコア'"
      ],
      "execution_count": 4,
      "outputs": []
    },
    {
      "cell_type": "code",
      "metadata": {
        "colab": {
          "base_uri": "https://localhost:8080/"
        },
        "id": "m4UyVOMD7AAn",
        "outputId": "b734412f-61ee-4008-aeeb-d180c59e3327"
      },
      "source": [
        "# 現在までのデータをstudyに登録\r\n",
        "\r\n",
        "import optuna\r\n",
        "\r\n",
        "sampler = optuna.samplers.TPESampler(multivariate=True)\r\n",
        "study = optuna.create_study(direction='maximize', sampler=sampler)\r\n",
        "\r\n",
        "for record_i, record in df.iterrows():\r\n",
        "  print(record.to_dict())\r\n",
        "  params = {}\r\n",
        "  for key in search_space.keys():\r\n",
        "    params[key] = record[key]\r\n",
        "  trial = optuna.trial.create_trial(\r\n",
        "    params=params,\r\n",
        "    distributions=search_space,\r\n",
        "    value=record[score_column])\r\n",
        "  study.add_trial(trial)"
      ],
      "execution_count": 5,
      "outputs": [
        {
          "output_type": "stream",
          "text": [
            "/usr/local/lib/python3.6/dist-packages/optuna/samplers/_tpe/sampler.py:191: ExperimentalWarning:\n",
            "\n",
            "``multivariate`` option is an experimental feature. The interface can change in the future.\n",
            "\n",
            "\u001b[32m[I 2021-01-30 02:32:09,287]\u001b[0m A new study created in memory with name: no-name-9477651e-3950-413f-abc8-5385514f3198\u001b[0m\n"
          ],
          "name": "stderr"
        },
        {
          "output_type": "stream",
          "text": [
            "{'豆': 'マンデリン', '豆を買った店': '店0', '豆を買った日': '2020/12/28', '豆の量(g)': 9, 'ミルの時間 (sec)': 5, 'トータルの時間 (sec)': 240, '蒸らし時間 (sec)': 30, 'スコア': 5, 'コメント': 'マンデリンのいい感じの苦みが強調されていて久々に入れたにしてはよくできた印象'}\n",
            "{'豆': 'マンデリン', '豆を買った店': '店0', '豆を買った日': '2020/12/28', '豆の量(g)': 9, 'ミルの時間 (sec)': 5, 'トータルの時間 (sec)': 180, '蒸らし時間 (sec)': 30, 'スコア': 4, 'コメント': 'マンデリンのいい感じの苦みが強調されていて久々に入れたにしてはよくできた印象'}\n"
          ],
          "name": "stdout"
        },
        {
          "output_type": "stream",
          "text": [
            "/usr/local/lib/python3.6/dist-packages/ipykernel_launcher.py:16: ExperimentalWarning:\n",
            "\n",
            "create_trial is experimental (supported from v2.0.0). The interface can change in the future.\n",
            "\n",
            "/usr/local/lib/python3.6/dist-packages/ipykernel_launcher.py:17: ExperimentalWarning:\n",
            "\n",
            "add_trial is experimental (supported from v2.0.0). The interface can change in the future.\n",
            "\n"
          ],
          "name": "stderr"
        }
      ]
    },
    {
      "cell_type": "code",
      "metadata": {
        "colab": {
          "base_uri": "https://localhost:8080/"
        },
        "id": "_GWb1Pce7CKL",
        "outputId": "ea1aeccd-7784-4068-bfce-a9144b515b9b"
      },
      "source": [
        "# 次のパラメータの出力\r\n",
        "trial = study._ask()\r\n",
        "\r\n",
        "new_params = {}\r\n",
        "for key, space in search_space.items():\r\n",
        "  new_params[key] = trial._suggest(key, space)\r\n",
        "\r\n",
        "for key in  [\"豆の量(g)\", \"ミルの時間 (sec)\",  \"トータルの時間 (sec)\",  \"蒸らし時間 (sec)\"]:\r\n",
        "  print(key, new_params[key])"
      ],
      "execution_count": 6,
      "outputs": [
        {
          "output_type": "stream",
          "text": [
            "豆の量(g) 9\n",
            "ミルの時間 (sec) 13\n",
            "トータルの時間 (sec) 199\n",
            "蒸らし時間 (sec) 33\n"
          ],
          "name": "stdout"
        }
      ]
    }
  ]
}
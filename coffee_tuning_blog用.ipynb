{
  "nbformat": 4,
  "nbformat_minor": 0,
  "metadata": {
    "colab": {
      "name": "coffee tuning blog用 ",
      "provenance": [],
      "collapsed_sections": [],
      "authorship_tag": "ABX9TyOGJf+ho93UrVS+xFAZnivn",
      "include_colab_link": true
    },
    "kernelspec": {
      "name": "python3",
      "display_name": "Python 3"
    }
  },
  "cells": [
    {
      "cell_type": "markdown",
      "metadata": {
        "id": "view-in-github",
        "colab_type": "text"
      },
      "source": [
        "<a href=\"https://colab.research.google.com/github/shu65/coffee-tuning/blob/main/coffee_tuning_blog%E7%94%A8.ipynb\" target=\"_parent\"><img src=\"https://colab.research.google.com/assets/colab-badge.svg\" alt=\"Open In Colab\"/></a>"
      ]
    },
    {
      "cell_type": "code",
      "metadata": {
        "colab": {
          "base_uri": "https://localhost:8080/"
        },
        "id": "chLHSr1E6bzv",
        "outputId": "11214cac-f6c1-45ce-b1e6-812ca6772fc9"
      },
      "source": [
        "!pip install optuna gspread pandas"
      ],
      "execution_count": 1,
      "outputs": [
        {
          "output_type": "stream",
          "text": [
            "Collecting optuna\n",
            "\u001b[?25l  Downloading https://files.pythonhosted.org/packages/87/10/06b58f4120f26b603d905a594650440ea1fd74476b8b360dbf01e111469b/optuna-2.3.0.tar.gz (258kB)\n",
            "\r\u001b[K     |█▎                              | 10kB 20.0MB/s eta 0:00:01\r\u001b[K     |██▌                             | 20kB 18.4MB/s eta 0:00:01\r\u001b[K     |███▉                            | 30kB 11.5MB/s eta 0:00:01\r\u001b[K     |█████                           | 40kB 9.7MB/s eta 0:00:01\r\u001b[K     |██████▍                         | 51kB 10.0MB/s eta 0:00:01\r\u001b[K     |███████▋                        | 61kB 11.0MB/s eta 0:00:01\r\u001b[K     |████████▉                       | 71kB 10.0MB/s eta 0:00:01\r\u001b[K     |██████████▏                     | 81kB 11.0MB/s eta 0:00:01\r\u001b[K     |███████████▍                    | 92kB 9.8MB/s eta 0:00:01\r\u001b[K     |████████████▊                   | 102kB 10.0MB/s eta 0:00:01\r\u001b[K     |██████████████                  | 112kB 10.0MB/s eta 0:00:01\r\u001b[K     |███████████████▏                | 122kB 10.0MB/s eta 0:00:01\r\u001b[K     |████████████████▌               | 133kB 10.0MB/s eta 0:00:01\r\u001b[K     |█████████████████▊              | 143kB 10.0MB/s eta 0:00:01\r\u001b[K     |███████████████████             | 153kB 10.0MB/s eta 0:00:01\r\u001b[K     |████████████████████▎           | 163kB 10.0MB/s eta 0:00:01\r\u001b[K     |█████████████████████▌          | 174kB 10.0MB/s eta 0:00:01\r\u001b[K     |██████████████████████▉         | 184kB 10.0MB/s eta 0:00:01\r\u001b[K     |████████████████████████        | 194kB 10.0MB/s eta 0:00:01\r\u001b[K     |█████████████████████████▍      | 204kB 10.0MB/s eta 0:00:01\r\u001b[K     |██████████████████████████▋     | 215kB 10.0MB/s eta 0:00:01\r\u001b[K     |███████████████████████████▉    | 225kB 10.0MB/s eta 0:00:01\r\u001b[K     |█████████████████████████████▏  | 235kB 10.0MB/s eta 0:00:01\r\u001b[K     |██████████████████████████████▍ | 245kB 10.0MB/s eta 0:00:01\r\u001b[K     |███████████████████████████████▊| 256kB 10.0MB/s eta 0:00:01\r\u001b[K     |████████████████████████████████| 266kB 10.0MB/s \n",
            "\u001b[?25h  Installing build dependencies ... \u001b[?25l\u001b[?25hdone\n",
            "  Getting requirements to build wheel ... \u001b[?25l\u001b[?25hdone\n",
            "    Preparing wheel metadata ... \u001b[?25l\u001b[?25hdone\n",
            "Requirement already satisfied: gspread in /usr/local/lib/python3.6/dist-packages (3.0.1)\n",
            "Requirement already satisfied: pandas in /usr/local/lib/python3.6/dist-packages (1.1.5)\n",
            "Requirement already satisfied: tqdm in /usr/local/lib/python3.6/dist-packages (from optuna) (4.41.1)\n",
            "Collecting cliff\n",
            "\u001b[?25l  Downloading https://files.pythonhosted.org/packages/8a/61/5b64d73b01c1218f55c894b5ec0fb89b32c6960b7f7b3ad9f5ac0c373b9d/cliff-3.5.0-py3-none-any.whl (81kB)\n",
            "\u001b[K     |████████████████████████████████| 81kB 8.7MB/s \n",
            "\u001b[?25hRequirement already satisfied: joblib in /usr/local/lib/python3.6/dist-packages (from optuna) (1.0.0)\n",
            "Collecting alembic\n",
            "\u001b[?25l  Downloading https://files.pythonhosted.org/packages/12/aa/c261dfd7f4ba6ce4701846a2689a46e2a172e012171de4378fc2926e3bf0/alembic-1.4.3-py2.py3-none-any.whl (159kB)\n",
            "\u001b[K     |████████████████████████████████| 163kB 23.4MB/s \n",
            "\u001b[?25hRequirement already satisfied: scipy!=1.4.0 in /usr/local/lib/python3.6/dist-packages (from optuna) (1.4.1)\n",
            "Requirement already satisfied: sqlalchemy>=1.1.0 in /usr/local/lib/python3.6/dist-packages (from optuna) (1.3.20)\n",
            "Collecting colorlog\n",
            "  Downloading https://files.pythonhosted.org/packages/4e/c8/c16d30bbed11a1722060014c246d124582d1f781b26f5859d8dacc3e08e1/colorlog-4.6.2-py2.py3-none-any.whl\n",
            "Requirement already satisfied: numpy in /usr/local/lib/python3.6/dist-packages (from optuna) (1.19.4)\n",
            "Collecting cmaes>=0.6.0\n",
            "  Downloading https://files.pythonhosted.org/packages/8d/3c/06c76ec8b54b9b1fad7f35e903fd25010fe3e0d41bd94cea5e6f12e0d651/cmaes-0.7.0-py3-none-any.whl\n",
            "Requirement already satisfied: packaging>=20.0 in /usr/local/lib/python3.6/dist-packages (from optuna) (20.8)\n",
            "Requirement already satisfied: requests>=2.2.1 in /usr/local/lib/python3.6/dist-packages (from gspread) (2.23.0)\n",
            "Requirement already satisfied: python-dateutil>=2.7.3 in /usr/local/lib/python3.6/dist-packages (from pandas) (2.8.1)\n",
            "Requirement already satisfied: pytz>=2017.2 in /usr/local/lib/python3.6/dist-packages (from pandas) (2018.9)\n",
            "Requirement already satisfied: PyYAML>=3.12 in /usr/local/lib/python3.6/dist-packages (from cliff->optuna) (3.13)\n",
            "Collecting cmd2!=0.8.3,>=0.8.0\n",
            "\u001b[?25l  Downloading https://files.pythonhosted.org/packages/27/54/af6e2703f064485d717cb311d3f9440cd302a823ba6d80a020b59eae166d/cmd2-1.4.0-py3-none-any.whl (133kB)\n",
            "\u001b[K     |████████████████████████████████| 133kB 24.1MB/s \n",
            "\u001b[?25hRequirement already satisfied: pyparsing>=2.1.0 in /usr/local/lib/python3.6/dist-packages (from cliff->optuna) (2.4.7)\n",
            "Collecting stevedore>=2.0.1\n",
            "\u001b[?25l  Downloading https://files.pythonhosted.org/packages/d4/49/b602307aeac3df3384ff1fcd05da9c0376c622a6c48bb5325f28ab165b57/stevedore-3.3.0-py3-none-any.whl (49kB)\n",
            "\u001b[K     |████████████████████████████████| 51kB 7.4MB/s \n",
            "\u001b[?25hCollecting pbr!=2.1.0,>=2.0.0\n",
            "\u001b[?25l  Downloading https://files.pythonhosted.org/packages/fb/48/69046506f6ac61c1eaa9a0d42d22d54673b69e176d30ca98e3f61513e980/pbr-5.5.1-py2.py3-none-any.whl (106kB)\n",
            "\u001b[K     |████████████████████████████████| 112kB 14.2MB/s \n",
            "\u001b[?25hRequirement already satisfied: six>=1.10.0 in /usr/local/lib/python3.6/dist-packages (from cliff->optuna) (1.15.0)\n",
            "Collecting PrettyTable<0.8,>=0.7.2\n",
            "  Downloading https://files.pythonhosted.org/packages/ef/30/4b0746848746ed5941f052479e7c23d2b56d174b82f4fd34a25e389831f5/prettytable-0.7.2.tar.bz2\n",
            "Collecting Mako\n",
            "\u001b[?25l  Downloading https://files.pythonhosted.org/packages/a6/37/0e706200d22172eb8fa17d68a7ae22dec7631a0a92266634fb518a88a5b2/Mako-1.1.3-py2.py3-none-any.whl (75kB)\n",
            "\u001b[K     |████████████████████████████████| 81kB 9.4MB/s \n",
            "\u001b[?25hCollecting python-editor>=0.3\n",
            "  Downloading https://files.pythonhosted.org/packages/c6/d3/201fc3abe391bbae6606e6f1d598c15d367033332bd54352b12f35513717/python_editor-1.0.4-py3-none-any.whl\n",
            "Requirement already satisfied: urllib3!=1.25.0,!=1.25.1,<1.26,>=1.21.1 in /usr/local/lib/python3.6/dist-packages (from requests>=2.2.1->gspread) (1.24.3)\n",
            "Requirement already satisfied: certifi>=2017.4.17 in /usr/local/lib/python3.6/dist-packages (from requests>=2.2.1->gspread) (2020.12.5)\n",
            "Requirement already satisfied: chardet<4,>=3.0.2 in /usr/local/lib/python3.6/dist-packages (from requests>=2.2.1->gspread) (3.0.4)\n",
            "Requirement already satisfied: idna<3,>=2.5 in /usr/local/lib/python3.6/dist-packages (from requests>=2.2.1->gspread) (2.10)\n",
            "Requirement already satisfied: importlib-metadata>=1.6.0; python_version < \"3.8\" in /usr/local/lib/python3.6/dist-packages (from cmd2!=0.8.3,>=0.8.0->cliff->optuna) (3.3.0)\n",
            "Collecting pyperclip>=1.6\n",
            "  Downloading https://files.pythonhosted.org/packages/6f/4c/0b1d507ad7e8bc31d690d04b4f475e74c2002d060f7994ce8c09612df707/pyperclip-1.8.1.tar.gz\n",
            "Collecting colorama>=0.3.7\n",
            "  Downloading https://files.pythonhosted.org/packages/44/98/5b86278fbbf250d239ae0ecb724f8572af1c91f4a11edf4d36a206189440/colorama-0.4.4-py2.py3-none-any.whl\n",
            "Requirement already satisfied: attrs>=16.3.0 in /usr/local/lib/python3.6/dist-packages (from cmd2!=0.8.3,>=0.8.0->cliff->optuna) (20.3.0)\n",
            "Requirement already satisfied: wcwidth>=0.1.7 in /usr/local/lib/python3.6/dist-packages (from cmd2!=0.8.3,>=0.8.0->cliff->optuna) (0.2.5)\n",
            "Requirement already satisfied: MarkupSafe>=0.9.2 in /usr/local/lib/python3.6/dist-packages (from Mako->alembic->optuna) (1.1.1)\n",
            "Requirement already satisfied: zipp>=0.5 in /usr/local/lib/python3.6/dist-packages (from importlib-metadata>=1.6.0; python_version < \"3.8\"->cmd2!=0.8.3,>=0.8.0->cliff->optuna) (3.4.0)\n",
            "Requirement already satisfied: typing-extensions>=3.6.4; python_version < \"3.8\" in /usr/local/lib/python3.6/dist-packages (from importlib-metadata>=1.6.0; python_version < \"3.8\"->cmd2!=0.8.3,>=0.8.0->cliff->optuna) (3.7.4.3)\n",
            "Building wheels for collected packages: optuna\n",
            "  Building wheel for optuna (PEP 517) ... \u001b[?25l\u001b[?25hdone\n",
            "  Created wheel for optuna: filename=optuna-2.3.0-cp36-none-any.whl size=359761 sha256=1f97c28965e36d463853aec7a7bab9d3e91b81143b270b62b884a30c5345dc28\n",
            "  Stored in directory: /root/.cache/pip/wheels/fa/91/19/64b0ec6b964f89c0695a9dc6db6f851d0b54c5381a5c9cadfb\n",
            "Successfully built optuna\n",
            "Building wheels for collected packages: PrettyTable, pyperclip\n",
            "  Building wheel for PrettyTable (setup.py) ... \u001b[?25l\u001b[?25hdone\n",
            "  Created wheel for PrettyTable: filename=prettytable-0.7.2-cp36-none-any.whl size=13702 sha256=67f72398af6ceed744220df59d86ece1cac3a023597dd88af19bd4edb368e6a3\n",
            "  Stored in directory: /root/.cache/pip/wheels/80/34/1c/3967380d9676d162cb59513bd9dc862d0584e045a162095606\n",
            "  Building wheel for pyperclip (setup.py) ... \u001b[?25l\u001b[?25hdone\n",
            "  Created wheel for pyperclip: filename=pyperclip-1.8.1-cp36-none-any.whl size=11120 sha256=6ada0589cbcac5d8b402de42b357921cea85b4ab21c75333ef50332df1e7ab9a\n",
            "  Stored in directory: /root/.cache/pip/wheels/44/10/3a/c830e9bb3db2c93274ea1f213a41fabde0d8cf3794251fad0c\n",
            "Successfully built PrettyTable pyperclip\n",
            "Installing collected packages: pyperclip, colorama, cmd2, pbr, stevedore, PrettyTable, cliff, Mako, python-editor, alembic, colorlog, cmaes, optuna\n",
            "  Found existing installation: prettytable 2.0.0\n",
            "    Uninstalling prettytable-2.0.0:\n",
            "      Successfully uninstalled prettytable-2.0.0\n",
            "Successfully installed Mako-1.1.3 PrettyTable-0.7.2 alembic-1.4.3 cliff-3.5.0 cmaes-0.7.0 cmd2-1.4.0 colorama-0.4.4 colorlog-4.6.2 optuna-2.3.0 pbr-5.5.1 pyperclip-1.8.1 python-editor-1.0.4 stevedore-3.3.0\n"
          ],
          "name": "stdout"
        }
      ]
    },
    {
      "cell_type": "code",
      "metadata": {
        "id": "jIqfG-CN7knl"
      },
      "source": [
        "# Google スプレッドシートの承認\r\n",
        "\r\n",
        "from google.colab import auth\r\n",
        "from oauth2client.client import GoogleCredentials\r\n",
        "import gspread\r\n",
        "\r\n",
        "auth.authenticate_user()\r\n",
        "gc = gspread.authorize(GoogleCredentials.get_application_default())"
      ],
      "execution_count": 2,
      "outputs": []
    },
    {
      "cell_type": "code",
      "metadata": {
        "colab": {
          "base_uri": "https://localhost:8080/",
          "height": 142
        },
        "id": "PDd051uL76Iu",
        "outputId": "62fcb033-80d2-4861-b5d6-6e667bd5cad5"
      },
      "source": [
        "# スプレッドシートからデータを取ってくる\r\n",
        "import pandas as pd\r\n",
        "\r\n",
        "ss_name = \"shu65コーヒーデータ\"\r\n",
        "workbook = gc.open(ss_name)\r\n",
        "worksheet = workbook.get_worksheet(1)\r\n",
        "df = pd.DataFrame(worksheet.get_all_records())\r\n",
        "df = df.set_index('淹れた日')\r\n",
        "df"
      ],
      "execution_count": 3,
      "outputs": [
        {
          "output_type": "execute_result",
          "data": {
            "text/html": [
              "<div>\n",
              "<style scoped>\n",
              "    .dataframe tbody tr th:only-of-type {\n",
              "        vertical-align: middle;\n",
              "    }\n",
              "\n",
              "    .dataframe tbody tr th {\n",
              "        vertical-align: top;\n",
              "    }\n",
              "\n",
              "    .dataframe thead th {\n",
              "        text-align: right;\n",
              "    }\n",
              "</style>\n",
              "<table border=\"1\" class=\"dataframe\">\n",
              "  <thead>\n",
              "    <tr style=\"text-align: right;\">\n",
              "      <th></th>\n",
              "      <th>豆</th>\n",
              "      <th>豆を買った店</th>\n",
              "      <th>豆を買った日</th>\n",
              "      <th>豆の量(g)</th>\n",
              "      <th>ミルの時間 (sec)</th>\n",
              "      <th>トータルの時間 (sec)</th>\n",
              "      <th>蒸らし時間 (sec)</th>\n",
              "      <th>スコア</th>\n",
              "      <th>コメント</th>\n",
              "    </tr>\n",
              "    <tr>\n",
              "      <th>淹れた日</th>\n",
              "      <th></th>\n",
              "      <th></th>\n",
              "      <th></th>\n",
              "      <th></th>\n",
              "      <th></th>\n",
              "      <th></th>\n",
              "      <th></th>\n",
              "      <th></th>\n",
              "      <th></th>\n",
              "    </tr>\n",
              "  </thead>\n",
              "  <tbody>\n",
              "    <tr>\n",
              "      <th>2020/12/29</th>\n",
              "      <td>マンデリン</td>\n",
              "      <td>店0</td>\n",
              "      <td>2020/12/28</td>\n",
              "      <td>9</td>\n",
              "      <td>5</td>\n",
              "      <td>240</td>\n",
              "      <td>30</td>\n",
              "      <td>5</td>\n",
              "      <td>マンデリンのいい感じの苦みが強調されていて久々に入れたにしてはよくできた印象</td>\n",
              "    </tr>\n",
              "    <tr>\n",
              "      <th>2020/12/30</th>\n",
              "      <td>マンデリン</td>\n",
              "      <td>店0</td>\n",
              "      <td>2020/12/28</td>\n",
              "      <td>9</td>\n",
              "      <td>5</td>\n",
              "      <td>180</td>\n",
              "      <td>30</td>\n",
              "      <td>4</td>\n",
              "      <td>マンデリンのいい感じの苦みが強調されていて久々に入れたにしてはよくできた印象</td>\n",
              "    </tr>\n",
              "  </tbody>\n",
              "</table>\n",
              "</div>"
            ],
            "text/plain": [
              "                豆 豆を買った店  ... スコア                                    コメント\n",
              "淹れた日                      ...                                            \n",
              "2020/12/29  マンデリン     店0  ...   5  マンデリンのいい感じの苦みが強調されていて久々に入れたにしてはよくできた印象\n",
              "2020/12/30  マンデリン     店0  ...   4  マンデリンのいい感じの苦みが強調されていて久々に入れたにしてはよくできた印象\n",
              "\n",
              "[2 rows x 9 columns]"
            ]
          },
          "metadata": {
            "tags": []
          },
          "execution_count": 3
        }
      ]
    },
    {
      "cell_type": "code",
      "metadata": {
        "id": "7RHfY57T_Qui"
      },
      "source": [
        "\r\n",
        "# 探索空間の定義\r\n",
        "\r\n",
        "import optuna\r\n",
        "\r\n",
        "search_space={\r\n",
        "    \"豆の量(g)\": optuna.distributions.IntUniformDistribution(8, 12),\r\n",
        "    \"ミルの時間 (sec)\": optuna.distributions.IntUniformDistribution(3, 15),\r\n",
        "    \"トータルの時間 (sec)\": optuna.distributions.IntUniformDistribution(180, 300),\r\n",
        "    \"蒸らし時間 (sec)\": optuna.distributions.IntUniformDistribution(20, 40),\r\n",
        "    }\r\n",
        "score_column = 'スコア'"
      ],
      "execution_count": 4,
      "outputs": []
    },
    {
      "cell_type": "code",
      "metadata": {
        "colab": {
          "base_uri": "https://localhost:8080/"
        },
        "id": "m4UyVOMD7AAn",
        "outputId": "b77c7bd9-6645-4053-fad2-b7728789ddec"
      },
      "source": [
        "# 現在までのデータをstudyに登録\r\n",
        "\r\n",
        "import optuna\r\n",
        "\r\n",
        "sampler = optuna.samplers.TPESampler(multivariate=True, seed=123)\r\n",
        "study = optuna.create_study(direction='maximize', sampler=sampler)\r\n",
        "\r\n",
        "for record_i, record in df.iloc[::-1].iterrows():\r\n",
        "  print(record.to_dict())\r\n",
        "  params = {}\r\n",
        "  for key in search_space.keys():\r\n",
        "    params[key] = record[key]\r\n",
        "  trial = optuna.trial.create_trial(\r\n",
        "    params=params,\r\n",
        "    distributions=search_space,\r\n",
        "    value=record[score_column])\r\n",
        "  study.add_trial(trial)"
      ],
      "execution_count": 5,
      "outputs": [
        {
          "output_type": "stream",
          "text": [
            "/usr/local/lib/python3.6/dist-packages/optuna/samplers/_tpe/sampler.py:191: ExperimentalWarning:\n",
            "\n",
            "``multivariate`` option is an experimental feature. The interface can change in the future.\n",
            "\n",
            "\u001b[32m[I 2020-12-30 02:51:15,431]\u001b[0m A new study created in memory with name: no-name-93443810-6a72-497d-837c-12c9c9a12054\u001b[0m\n"
          ],
          "name": "stderr"
        },
        {
          "output_type": "stream",
          "text": [
            "{'豆': 'マンデリン', '豆を買った店': '店0', '豆を買った日': '2020/12/28', '豆の量(g)': 9, 'ミルの時間 (sec)': 5, 'トータルの時間 (sec)': 180, '蒸らし時間 (sec)': 30, 'スコア': 4, 'コメント': 'マンデリンのいい感じの苦みが強調されていて久々に入れたにしてはよくできた印象'}\n",
            "{'豆': 'マンデリン', '豆を買った店': '店0', '豆を買った日': '2020/12/28', '豆の量(g)': 9, 'ミルの時間 (sec)': 5, 'トータルの時間 (sec)': 240, '蒸らし時間 (sec)': 30, 'スコア': 5, 'コメント': 'マンデリンのいい感じの苦みが強調されていて久々に入れたにしてはよくできた印象'}\n"
          ],
          "name": "stdout"
        },
        {
          "output_type": "stream",
          "text": [
            "/usr/local/lib/python3.6/dist-packages/ipykernel_launcher.py:16: ExperimentalWarning:\n",
            "\n",
            "create_trial is experimental (supported from v2.0.0). The interface can change in the future.\n",
            "\n",
            "/usr/local/lib/python3.6/dist-packages/ipykernel_launcher.py:17: ExperimentalWarning:\n",
            "\n",
            "add_trial is experimental (supported from v2.0.0). The interface can change in the future.\n",
            "\n"
          ],
          "name": "stderr"
        }
      ]
    },
    {
      "cell_type": "code",
      "metadata": {
        "colab": {
          "base_uri": "https://localhost:8080/"
        },
        "id": "_GWb1Pce7CKL",
        "outputId": "159e94de-007a-4a31-f012-372621514311"
      },
      "source": [
        "# 次のパラメータの出力\r\n",
        "trial = study._ask()\r\n",
        "\r\n",
        "new_params = {}\r\n",
        "for key, space in search_space.items():\r\n",
        "  new_params[key] = trial._suggest(key, space)\r\n",
        "\r\n",
        "for key in  [\"豆の量(g)\", \"ミルの時間 (sec)\",  \"トータルの時間 (sec)\",  \"蒸らし時間 (sec)\"]:\r\n",
        "  print(key, new_params[key])"
      ],
      "execution_count": 6,
      "outputs": [
        {
          "output_type": "stream",
          "text": [
            "豆の量(g) 10\n",
            "ミルの時間 (sec) 15\n",
            "トータルの時間 (sec) 278\n",
            "蒸らし時間 (sec) 26\n"
          ],
          "name": "stdout"
        }
      ]
    }
  ]
}
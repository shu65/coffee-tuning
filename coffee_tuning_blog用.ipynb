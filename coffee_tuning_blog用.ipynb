{
  "nbformat": 4,
  "nbformat_minor": 0,
  "metadata": {
    "colab": {
      "name": "coffee tuning blog用 ",
      "provenance": [],
      "collapsed_sections": [],
      "authorship_tag": "ABX9TyOuApe5rms04RJXyIAimFHl",
      "include_colab_link": true
    },
    "kernelspec": {
      "name": "python3",
      "display_name": "Python 3"
    }
  },
  "cells": [
    {
      "cell_type": "markdown",
      "metadata": {
        "id": "view-in-github",
        "colab_type": "text"
      },
      "source": [
        "<a href=\"https://colab.research.google.com/github/shu65/coffee-tuning/blob/main/coffee_tuning_blog%E7%94%A8.ipynb\" target=\"_parent\"><img src=\"https://colab.research.google.com/assets/colab-badge.svg\" alt=\"Open In Colab\"/></a>"
      ]
    },
    {
      "cell_type": "code",
      "metadata": {
        "colab": {
          "base_uri": "https://localhost:8080/"
        },
        "id": "chLHSr1E6bzv",
        "outputId": "5535e735-3c7f-45a2-f26c-dcddc622f884"
      },
      "source": [
        "!pip install optuna gspread pandas"
      ],
      "execution_count": 13,
      "outputs": [
        {
          "output_type": "stream",
          "text": [
            "Requirement already satisfied: optuna in /usr/local/lib/python3.6/dist-packages (2.3.0)\n",
            "Requirement already satisfied: gspread in /usr/local/lib/python3.6/dist-packages (3.0.1)\n",
            "Requirement already satisfied: pandas in /usr/local/lib/python3.6/dist-packages (1.1.5)\n",
            "Requirement already satisfied: numpy in /usr/local/lib/python3.6/dist-packages (from optuna) (1.19.4)\n",
            "Requirement already satisfied: packaging>=20.0 in /usr/local/lib/python3.6/dist-packages (from optuna) (20.8)\n",
            "Requirement already satisfied: cmaes>=0.6.0 in /usr/local/lib/python3.6/dist-packages (from optuna) (0.7.0)\n",
            "Requirement already satisfied: scipy!=1.4.0 in /usr/local/lib/python3.6/dist-packages (from optuna) (1.4.1)\n",
            "Requirement already satisfied: sqlalchemy>=1.1.0 in /usr/local/lib/python3.6/dist-packages (from optuna) (1.3.20)\n",
            "Requirement already satisfied: joblib in /usr/local/lib/python3.6/dist-packages (from optuna) (1.0.0)\n",
            "Requirement already satisfied: tqdm in /usr/local/lib/python3.6/dist-packages (from optuna) (4.41.1)\n",
            "Requirement already satisfied: colorlog in /usr/local/lib/python3.6/dist-packages (from optuna) (4.6.2)\n",
            "Requirement already satisfied: alembic in /usr/local/lib/python3.6/dist-packages (from optuna) (1.4.3)\n",
            "Requirement already satisfied: cliff in /usr/local/lib/python3.6/dist-packages (from optuna) (3.5.0)\n",
            "Requirement already satisfied: requests>=2.2.1 in /usr/local/lib/python3.6/dist-packages (from gspread) (2.23.0)\n",
            "Requirement already satisfied: pytz>=2017.2 in /usr/local/lib/python3.6/dist-packages (from pandas) (2018.9)\n",
            "Requirement already satisfied: python-dateutil>=2.7.3 in /usr/local/lib/python3.6/dist-packages (from pandas) (2.8.1)\n",
            "Requirement already satisfied: pyparsing>=2.0.2 in /usr/local/lib/python3.6/dist-packages (from packaging>=20.0->optuna) (2.4.7)\n",
            "Requirement already satisfied: python-editor>=0.3 in /usr/local/lib/python3.6/dist-packages (from alembic->optuna) (1.0.4)\n",
            "Requirement already satisfied: Mako in /usr/local/lib/python3.6/dist-packages (from alembic->optuna) (1.1.3)\n",
            "Requirement already satisfied: cmd2!=0.8.3,>=0.8.0 in /usr/local/lib/python3.6/dist-packages (from cliff->optuna) (1.4.0)\n",
            "Requirement already satisfied: pbr!=2.1.0,>=2.0.0 in /usr/local/lib/python3.6/dist-packages (from cliff->optuna) (5.5.1)\n",
            "Requirement already satisfied: six>=1.10.0 in /usr/local/lib/python3.6/dist-packages (from cliff->optuna) (1.15.0)\n",
            "Requirement already satisfied: PrettyTable<0.8,>=0.7.2 in /usr/local/lib/python3.6/dist-packages (from cliff->optuna) (0.7.2)\n",
            "Requirement already satisfied: PyYAML>=3.12 in /usr/local/lib/python3.6/dist-packages (from cliff->optuna) (3.13)\n",
            "Requirement already satisfied: stevedore>=2.0.1 in /usr/local/lib/python3.6/dist-packages (from cliff->optuna) (3.3.0)\n",
            "Requirement already satisfied: urllib3!=1.25.0,!=1.25.1,<1.26,>=1.21.1 in /usr/local/lib/python3.6/dist-packages (from requests>=2.2.1->gspread) (1.24.3)\n",
            "Requirement already satisfied: chardet<4,>=3.0.2 in /usr/local/lib/python3.6/dist-packages (from requests>=2.2.1->gspread) (3.0.4)\n",
            "Requirement already satisfied: idna<3,>=2.5 in /usr/local/lib/python3.6/dist-packages (from requests>=2.2.1->gspread) (2.10)\n",
            "Requirement already satisfied: certifi>=2017.4.17 in /usr/local/lib/python3.6/dist-packages (from requests>=2.2.1->gspread) (2020.12.5)\n",
            "Requirement already satisfied: MarkupSafe>=0.9.2 in /usr/local/lib/python3.6/dist-packages (from Mako->alembic->optuna) (1.1.1)\n",
            "Requirement already satisfied: colorama>=0.3.7 in /usr/local/lib/python3.6/dist-packages (from cmd2!=0.8.3,>=0.8.0->cliff->optuna) (0.4.4)\n",
            "Requirement already satisfied: pyperclip>=1.6 in /usr/local/lib/python3.6/dist-packages (from cmd2!=0.8.3,>=0.8.0->cliff->optuna) (1.8.1)\n",
            "Requirement already satisfied: wcwidth>=0.1.7 in /usr/local/lib/python3.6/dist-packages (from cmd2!=0.8.3,>=0.8.0->cliff->optuna) (0.2.5)\n",
            "Requirement already satisfied: attrs>=16.3.0 in /usr/local/lib/python3.6/dist-packages (from cmd2!=0.8.3,>=0.8.0->cliff->optuna) (20.3.0)\n",
            "Requirement already satisfied: importlib-metadata>=1.6.0; python_version < \"3.8\" in /usr/local/lib/python3.6/dist-packages (from cmd2!=0.8.3,>=0.8.0->cliff->optuna) (3.3.0)\n",
            "Requirement already satisfied: zipp>=0.5 in /usr/local/lib/python3.6/dist-packages (from importlib-metadata>=1.6.0; python_version < \"3.8\"->cmd2!=0.8.3,>=0.8.0->cliff->optuna) (3.4.0)\n",
            "Requirement already satisfied: typing-extensions>=3.6.4; python_version < \"3.8\" in /usr/local/lib/python3.6/dist-packages (from importlib-metadata>=1.6.0; python_version < \"3.8\"->cmd2!=0.8.3,>=0.8.0->cliff->optuna) (3.7.4.3)\n"
          ],
          "name": "stdout"
        }
      ]
    },
    {
      "cell_type": "code",
      "metadata": {
        "id": "jIqfG-CN7knl"
      },
      "source": [
        "# Google スプレッドシートの承認\r\n",
        "\r\n",
        "from google.colab import auth\r\n",
        "from oauth2client.client import GoogleCredentials\r\n",
        "import gspread\r\n",
        "\r\n",
        "auth.authenticate_user()\r\n",
        "gc = gspread.authorize(GoogleCredentials.get_application_default())"
      ],
      "execution_count": 6,
      "outputs": []
    },
    {
      "cell_type": "code",
      "metadata": {
        "colab": {
          "base_uri": "https://localhost:8080/",
          "height": 193
        },
        "id": "PDd051uL76Iu",
        "outputId": "5e0d4db9-d2a0-472c-c67e-58db86567769"
      },
      "source": [
        "# スプレッドシートからデータを取ってくる\r\n",
        "import pandas as pd\r\n",
        "\r\n",
        "ss_name = \"shu65コーヒーデータ\"\r\n",
        "workbook = gc.open(ss_name)\r\n",
        "worksheet = workbook.get_worksheet(1)\r\n",
        "df = pd.DataFrame(worksheet.get_all_records())\r\n",
        "df = df.set_index('淹れた日')\r\n",
        "df"
      ],
      "execution_count": 29,
      "outputs": [
        {
          "output_type": "execute_result",
          "data": {
            "text/html": [
              "<div>\n",
              "<style scoped>\n",
              "    .dataframe tbody tr th:only-of-type {\n",
              "        vertical-align: middle;\n",
              "    }\n",
              "\n",
              "    .dataframe tbody tr th {\n",
              "        vertical-align: top;\n",
              "    }\n",
              "\n",
              "    .dataframe thead th {\n",
              "        text-align: right;\n",
              "    }\n",
              "</style>\n",
              "<table border=\"1\" class=\"dataframe\">\n",
              "  <thead>\n",
              "    <tr style=\"text-align: right;\">\n",
              "      <th></th>\n",
              "      <th>豆</th>\n",
              "      <th>豆を買った店</th>\n",
              "      <th>豆を買った日</th>\n",
              "      <th>豆の量(g)</th>\n",
              "      <th>ミルの時間 (sec)</th>\n",
              "      <th>トータルの時間 (sec)</th>\n",
              "      <th>蒸らし時間 (sec)</th>\n",
              "      <th>スコア</th>\n",
              "      <th>コメント</th>\n",
              "    </tr>\n",
              "    <tr>\n",
              "      <th>淹れた日</th>\n",
              "      <th></th>\n",
              "      <th></th>\n",
              "      <th></th>\n",
              "      <th></th>\n",
              "      <th></th>\n",
              "      <th></th>\n",
              "      <th></th>\n",
              "      <th></th>\n",
              "      <th></th>\n",
              "    </tr>\n",
              "  </thead>\n",
              "  <tbody>\n",
              "    <tr>\n",
              "      <th>2020/12/29</th>\n",
              "      <td>マンデリン</td>\n",
              "      <td>店0</td>\n",
              "      <td>2020/12/28</td>\n",
              "      <td>9</td>\n",
              "      <td>5</td>\n",
              "      <td>240</td>\n",
              "      <td>30</td>\n",
              "      <td>5</td>\n",
              "      <td>マンデリンのいい感じの苦みが強調されていて久々に入れたにしてはよくできた印象</td>\n",
              "    </tr>\n",
              "    <tr>\n",
              "      <th>2020/12/30</th>\n",
              "      <td>マンデリン</td>\n",
              "      <td>店0</td>\n",
              "      <td>2020/12/28</td>\n",
              "      <td>9</td>\n",
              "      <td>5</td>\n",
              "      <td>180</td>\n",
              "      <td>30</td>\n",
              "      <td>4</td>\n",
              "      <td>マンデリンのいい感じの苦みが強調されていて久々に入れたにしてはよくできた印象</td>\n",
              "    </tr>\n",
              "  </tbody>\n",
              "</table>\n",
              "</div>"
            ],
            "text/plain": [
              "                豆 豆を買った店  ... スコア                                    コメント\n",
              "淹れた日                      ...                                            \n",
              "2020/12/29  マンデリン     店0  ...   5  マンデリンのいい感じの苦みが強調されていて久々に入れたにしてはよくできた印象\n",
              "2020/12/30  マンデリン     店0  ...   4  マンデリンのいい感じの苦みが強調されていて久々に入れたにしてはよくできた印象\n",
              "\n",
              "[2 rows x 9 columns]"
            ]
          },
          "metadata": {
            "tags": []
          },
          "execution_count": 29
        }
      ]
    },
    {
      "cell_type": "code",
      "metadata": {
        "id": "7RHfY57T_Qui"
      },
      "source": [
        "\r\n",
        "# 探索空間の定義\r\n",
        "\r\n",
        "import optuna\r\n",
        "\r\n",
        "search_space={\r\n",
        "    \"豆の量(g)\": optuna.distributions.IntUniformDistribution(8, 12),\r\n",
        "    \"ミルの時間 (sec)\": optuna.distributions.IntUniformDistribution(3, 15),\r\n",
        "    \"トータルの時間 (sec)\": optuna.distributions.IntUniformDistribution(180, 300),\r\n",
        "    \"蒸らし時間 (sec)\": optuna.distributions.IntUniformDistribution(20, 40),\r\n",
        "    }\r\n",
        "score_column = 'スコア'"
      ],
      "execution_count": 43,
      "outputs": []
    },
    {
      "cell_type": "code",
      "metadata": {
        "colab": {
          "base_uri": "https://localhost:8080/"
        },
        "id": "m4UyVOMD7AAn",
        "outputId": "3a623bba-8896-426c-b1e2-7901966b218f"
      },
      "source": [
        "# 現在までのデータをstudyに登録\r\n",
        "\r\n",
        "import optuna\r\n",
        "\r\n",
        "sampler = optuna.samplers.TPESampler(multivariate=True, seed=123)\r\n",
        "study = optuna.create_study(direction='maximize', sampler=sampler)\r\n",
        "\r\n",
        "for record_i, record in records.iterrows():\r\n",
        "  print(record.to_dict())\r\n",
        "  params = {}\r\n",
        "  for key in search_space.keys():\r\n",
        "    params[key] = record[key]\r\n",
        "  trial = optuna.trial.create_trial(\r\n",
        "    params=params,\r\n",
        "    distributions=search_space,\r\n",
        "    value=record[score_column])\r\n",
        "  study.add_trial(trial)"
      ],
      "execution_count": 44,
      "outputs": [
        {
          "output_type": "stream",
          "text": [
            "/usr/local/lib/python3.6/dist-packages/optuna/samplers/_tpe/sampler.py:191: ExperimentalWarning:\n",
            "\n",
            "``multivariate`` option is an experimental feature. The interface can change in the future.\n",
            "\n",
            "\u001b[32m[I 2020-12-29 07:06:43,450]\u001b[0m A new study created in memory with name: no-name-5fe4bdce-09ef-4507-9189-aa3cb82eb317\u001b[0m\n"
          ],
          "name": "stderr"
        },
        {
          "output_type": "stream",
          "text": [
            "{'豆': 'マンデリン', '豆を買った店': '店0', '豆を買った日': '2020/12/28', '豆の量(g)': 9, 'ミルの時間 (sec)': 5, 'トータルの時間 (sec)': 180, '蒸らし時間 (sec)': 30, 'スコア': 4, 'コメント': 'マンデリンのいい感じの苦みが強調されていて久々に入れたにしてはよくできた印象'}\n",
            "{'豆': 'マンデリン', '豆を買った店': '店0', '豆を買った日': '2020/12/28', '豆の量(g)': 9, 'ミルの時間 (sec)': 5, 'トータルの時間 (sec)': 240, '蒸らし時間 (sec)': 30, 'スコア': 5, 'コメント': 'マンデリンのいい感じの苦みが強調されていて久々に入れたにしてはよくできた印象'}\n"
          ],
          "name": "stdout"
        },
        {
          "output_type": "stream",
          "text": [
            "/usr/local/lib/python3.6/dist-packages/ipykernel_launcher.py:16: ExperimentalWarning:\n",
            "\n",
            "create_trial is experimental (supported from v2.0.0). The interface can change in the future.\n",
            "\n",
            "/usr/local/lib/python3.6/dist-packages/ipykernel_launcher.py:17: ExperimentalWarning:\n",
            "\n",
            "add_trial is experimental (supported from v2.0.0). The interface can change in the future.\n",
            "\n"
          ],
          "name": "stderr"
        }
      ]
    },
    {
      "cell_type": "code",
      "metadata": {
        "colab": {
          "base_uri": "https://localhost:8080/"
        },
        "id": "_GWb1Pce7CKL",
        "outputId": "4d260fc8-8b21-4bc1-fb93-bfe5961e6fea"
      },
      "source": [
        "# 次のパラメータの出力\r\n",
        "trial = study._ask()\r\n",
        "\r\n",
        "new_params = {}\r\n",
        "for key, space in search_space.items():\r\n",
        "  new_params[key] = trial._suggest(key, space)\r\n",
        "\r\n",
        "for key in  [\"豆の量(g)\", \"ミルの時間 (sec)\",  \"トータルの時間 (sec)\",  \"蒸らし時間 (sec)\"]:\r\n",
        "  print(key, new_params[key])"
      ],
      "execution_count": 45,
      "outputs": [
        {
          "output_type": "stream",
          "text": [
            "豆の量(g) 10\n",
            "ミルの時間 (sec) 15\n",
            "トータルの時間 (sec) 278\n",
            "蒸らし時間 (sec) 26\n"
          ],
          "name": "stdout"
        }
      ]
    }
  ]
}